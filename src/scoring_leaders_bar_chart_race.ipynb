{
 "cells": [
  {
   "attachments": {},
   "cell_type": "markdown",
   "metadata": {},
   "source": [
    "# All-Time Scoring Leaders \n",
    "Bar Chart Race"
   ]
  },
  {
   "attachments": {},
   "cell_type": "markdown",
   "metadata": {},
   "source": [
    "## Dependencies"
   ]
  },
  {
   "cell_type": "code",
   "execution_count": 1,
   "metadata": {},
   "outputs": [],
   "source": [
    "import pandas as pd\n",
    "from urllib.request import urlopen\n",
    "from bs4 import BeautifulSoup\n",
    "from modules.datasets import BReferenceScraper\n",
    "import time"
   ]
  },
  {
   "attachments": {},
   "cell_type": "markdown",
   "metadata": {},
   "source": [
    "## Web Scraping Data\n",
    "### Wikipedia All-Time List"
   ]
  },
  {
   "cell_type": "code",
   "execution_count": 2,
   "metadata": {},
   "outputs": [],
   "source": [
    "def all_time_leaders(url: str, output_path=None) -> list:\n",
    "    html = urlopen(url)\n",
    "    bs = BeautifulSoup(html, 'lxml')\n",
    "    \n",
    "    headers = [\n",
    "        th.get_text() \n",
    "        for th in bs.find_all('tr', limit=2)[0].find_all('th')\n",
    "        [1:]\n",
    "    ]\n",
    "\n",
    "    rows = bs.find_all('tr')[1:]\n",
    "    rows_data = [\n",
    "        [td.get_text() for td in rows[i].find_all('td')]\n",
    "        for i in range(len(rows))\n",
    "    ][4:54]\n",
    "    names = [row[1] for row in rows_data]\n",
    "    names_replaced = [name\n",
    "                      .replace('*', '') \n",
    "                      .replace('\\n', '')\n",
    "                      .replace('^', '')\n",
    "                      .replace('§', '')\n",
    "                      .replace('†', '')\n",
    "                      for name in names]    \n",
    "    return names_replaced"
   ]
  },
  {
   "cell_type": "code",
   "execution_count": 3,
   "metadata": {},
   "outputs": [
    {
     "data": {
      "text/plain": [
       "['Kareem Abdul-Jabbar',\n",
       " 'LeBron James',\n",
       " 'Karl Malone',\n",
       " 'Kobe Bryant',\n",
       " 'Michael Jordan',\n",
       " 'Dirk Nowitzki',\n",
       " 'Wilt Chamberlain',\n",
       " \"Shaquille O'Neal\",\n",
       " 'Carmelo Anthony',\n",
       " 'Moses Malone',\n",
       " 'Elvin Hayes',\n",
       " 'Hakeem Olajuwon',\n",
       " 'Oscar Robertson',\n",
       " 'Kevin Durant',\n",
       " 'Dominique Wilkins',\n",
       " 'Tim Duncan',\n",
       " 'Paul Pierce',\n",
       " 'John Havlicek',\n",
       " 'Kevin Garnett',\n",
       " 'Vince Carter',\n",
       " 'Alex English',\n",
       " 'Reggie Miller',\n",
       " 'Jerry West',\n",
       " 'Patrick Ewing',\n",
       " 'Ray Allen',\n",
       " 'Allen Iverson',\n",
       " 'James Harden',\n",
       " 'Russell Westbrook',\n",
       " 'Charles Barkley',\n",
       " 'Robert Parish',\n",
       " 'Adrian Dantley',\n",
       " 'Dwyane Wade',\n",
       " 'Elgin Baylor',\n",
       " 'Clyde Drexler',\n",
       " 'Gary Payton',\n",
       " 'Larry Bird',\n",
       " 'Hal Greer',\n",
       " 'Chris Paul',\n",
       " 'DeMar DeRozan',\n",
       " 'Stephen Curry',\n",
       " 'Walt Bellamy',\n",
       " 'Pau Gasol',\n",
       " 'Bob Pettit',\n",
       " 'David Robinson',\n",
       " 'George Gervin',\n",
       " 'LaMarcus Aldridge',\n",
       " 'Mitch Richmond',\n",
       " 'Joe Johnson',\n",
       " 'Tom Chambers',\n",
       " 'Antawn Jamison']"
      ]
     },
     "execution_count": 3,
     "metadata": {},
     "output_type": "execute_result"
    }
   ],
   "source": [
    "names = all_time_leaders(\"https://en.wikipedia.org/wiki/List_of_National_Basketball_Association_career_scoring_leaders\")\n",
    "names"
   ]
  },
  {
   "attachments": {},
   "cell_type": "markdown",
   "metadata": {},
   "source": [
    "## Basketball Reference"
   ]
  },
  {
   "cell_type": "code",
   "execution_count": 4,
   "metadata": {},
   "outputs": [
    {
     "name": "stdout",
     "output_type": "stream",
     "text": [
      "Kareem Abdul-Jabbar\n"
     ]
    },
    {
     "ename": "HTTPError",
     "evalue": "HTTP Error 429: Too Many Requests",
     "output_type": "error",
     "traceback": [
      "\u001b[1;31m---------------------------------------------------------------------------\u001b[0m",
      "\u001b[1;31mHTTPError\u001b[0m                                 Traceback (most recent call last)",
      "\u001b[1;32mc:\\Users\\ubfil\\OneDrive\\ForaDoGarrafao\\src\\socring_leaders_bar_chart_race.ipynb Cell 8\u001b[0m in \u001b[0;36m<cell line: 26>\u001b[1;34m()\u001b[0m\n\u001b[0;32m     <a href='vscode-notebook-cell:/c%3A/Users/ubfil/OneDrive/ForaDoGarrafao/src/socring_leaders_bar_chart_race.ipynb#W6sZmlsZQ%3D%3D?line=22'>23</a>\u001b[0m     df\u001b[39m.\u001b[39mto_csv(\u001b[39m'\u001b[39m\u001b[39m../data/breference/raw/all_time_leaders1.csv\u001b[39m\u001b[39m'\u001b[39m, index\u001b[39m=\u001b[39m\u001b[39mFalse\u001b[39;00m)\n\u001b[0;32m     <a href='vscode-notebook-cell:/c%3A/Users/ubfil/OneDrive/ForaDoGarrafao/src/socring_leaders_bar_chart_race.ipynb#W6sZmlsZQ%3D%3D?line=23'>24</a>\u001b[0m     \u001b[39mreturn\u001b[39;00m df\n\u001b[1;32m---> <a href='vscode-notebook-cell:/c%3A/Users/ubfil/OneDrive/ForaDoGarrafao/src/socring_leaders_bar_chart_race.ipynb#W6sZmlsZQ%3D%3D?line=25'>26</a>\u001b[0m df \u001b[39m=\u001b[39m scrap_seasons_all(names[\u001b[39m0\u001b[39;49m:\u001b[39m10\u001b[39;49m])\n\u001b[0;32m     <a href='vscode-notebook-cell:/c%3A/Users/ubfil/OneDrive/ForaDoGarrafao/src/socring_leaders_bar_chart_race.ipynb#W6sZmlsZQ%3D%3D?line=26'>27</a>\u001b[0m df\n",
      "\u001b[1;32mc:\\Users\\ubfil\\OneDrive\\ForaDoGarrafao\\src\\socring_leaders_bar_chart_race.ipynb Cell 8\u001b[0m in \u001b[0;36mscrap_seasons_all\u001b[1;34m(names)\u001b[0m\n\u001b[0;32m     <a href='vscode-notebook-cell:/c%3A/Users/ubfil/OneDrive/ForaDoGarrafao/src/socring_leaders_bar_chart_race.ipynb#W6sZmlsZQ%3D%3D?line=19'>20</a>\u001b[0m \u001b[39mfor\u001b[39;00m name \u001b[39min\u001b[39;00m names:\n\u001b[0;32m     <a href='vscode-notebook-cell:/c%3A/Users/ubfil/OneDrive/ForaDoGarrafao/src/socring_leaders_bar_chart_race.ipynb#W6sZmlsZQ%3D%3D?line=20'>21</a>\u001b[0m     \u001b[39mprint\u001b[39m(name)\n\u001b[1;32m---> <a href='vscode-notebook-cell:/c%3A/Users/ubfil/OneDrive/ForaDoGarrafao/src/socring_leaders_bar_chart_race.ipynb#W6sZmlsZQ%3D%3D?line=21'>22</a>\u001b[0m     df \u001b[39m=\u001b[39m pd\u001b[39m.\u001b[39mconcat([df, scrap_seasons(name)])\n\u001b[0;32m     <a href='vscode-notebook-cell:/c%3A/Users/ubfil/OneDrive/ForaDoGarrafao/src/socring_leaders_bar_chart_race.ipynb#W6sZmlsZQ%3D%3D?line=22'>23</a>\u001b[0m df\u001b[39m.\u001b[39mto_csv(\u001b[39m'\u001b[39m\u001b[39m../data/breference/raw/all_time_leaders1.csv\u001b[39m\u001b[39m'\u001b[39m, index\u001b[39m=\u001b[39m\u001b[39mFalse\u001b[39;00m)\n\u001b[0;32m     <a href='vscode-notebook-cell:/c%3A/Users/ubfil/OneDrive/ForaDoGarrafao/src/socring_leaders_bar_chart_race.ipynb#W6sZmlsZQ%3D%3D?line=23'>24</a>\u001b[0m \u001b[39mreturn\u001b[39;00m df\n",
      "\u001b[1;32mc:\\Users\\ubfil\\OneDrive\\ForaDoGarrafao\\src\\socring_leaders_bar_chart_race.ipynb Cell 8\u001b[0m in \u001b[0;36mscrap_seasons\u001b[1;34m(name)\u001b[0m\n\u001b[0;32m      <a href='vscode-notebook-cell:/c%3A/Users/ubfil/OneDrive/ForaDoGarrafao/src/socring_leaders_bar_chart_race.ipynb#W6sZmlsZQ%3D%3D?line=6'>7</a>\u001b[0m time\u001b[39m.\u001b[39msleep(\u001b[39m5\u001b[39m)\n\u001b[0;32m      <a href='vscode-notebook-cell:/c%3A/Users/ubfil/OneDrive/ForaDoGarrafao/src/socring_leaders_bar_chart_race.ipynb#W6sZmlsZQ%3D%3D?line=7'>8</a>\u001b[0m url \u001b[39m=\u001b[39m breference_url(name)\n\u001b[1;32m----> <a href='vscode-notebook-cell:/c%3A/Users/ubfil/OneDrive/ForaDoGarrafao/src/socring_leaders_bar_chart_race.ipynb#W6sZmlsZQ%3D%3D?line=8'>9</a>\u001b[0m html \u001b[39m=\u001b[39m urlopen(url)\n\u001b[0;32m     <a href='vscode-notebook-cell:/c%3A/Users/ubfil/OneDrive/ForaDoGarrafao/src/socring_leaders_bar_chart_race.ipynb#W6sZmlsZQ%3D%3D?line=9'>10</a>\u001b[0m bs \u001b[39m=\u001b[39m BeautifulSoup(html, \u001b[39m'\u001b[39m\u001b[39mlxml\u001b[39m\u001b[39m'\u001b[39m)\n\u001b[0;32m     <a href='vscode-notebook-cell:/c%3A/Users/ubfil/OneDrive/ForaDoGarrafao/src/socring_leaders_bar_chart_race.ipynb#W6sZmlsZQ%3D%3D?line=11'>12</a>\u001b[0m table \u001b[39m=\u001b[39m bs\u001b[39m.\u001b[39mfind_all(\u001b[39m'\u001b[39m\u001b[39mtable\u001b[39m\u001b[39m'\u001b[39m)[\u001b[39m0\u001b[39m]\n",
      "File \u001b[1;32mc:\\Users\\ubfil\\anaconda3\\envs\\foradogarrafao\\lib\\urllib\\request.py:216\u001b[0m, in \u001b[0;36murlopen\u001b[1;34m(url, data, timeout, cafile, capath, cadefault, context)\u001b[0m\n\u001b[0;32m    214\u001b[0m \u001b[39melse\u001b[39;00m:\n\u001b[0;32m    215\u001b[0m     opener \u001b[39m=\u001b[39m _opener\n\u001b[1;32m--> 216\u001b[0m \u001b[39mreturn\u001b[39;00m opener\u001b[39m.\u001b[39;49mopen(url, data, timeout)\n",
      "File \u001b[1;32mc:\\Users\\ubfil\\anaconda3\\envs\\foradogarrafao\\lib\\urllib\\request.py:525\u001b[0m, in \u001b[0;36mOpenerDirector.open\u001b[1;34m(self, fullurl, data, timeout)\u001b[0m\n\u001b[0;32m    523\u001b[0m \u001b[39mfor\u001b[39;00m processor \u001b[39min\u001b[39;00m \u001b[39mself\u001b[39m\u001b[39m.\u001b[39mprocess_response\u001b[39m.\u001b[39mget(protocol, []):\n\u001b[0;32m    524\u001b[0m     meth \u001b[39m=\u001b[39m \u001b[39mgetattr\u001b[39m(processor, meth_name)\n\u001b[1;32m--> 525\u001b[0m     response \u001b[39m=\u001b[39m meth(req, response)\n\u001b[0;32m    527\u001b[0m \u001b[39mreturn\u001b[39;00m response\n",
      "File \u001b[1;32mc:\\Users\\ubfil\\anaconda3\\envs\\foradogarrafao\\lib\\urllib\\request.py:634\u001b[0m, in \u001b[0;36mHTTPErrorProcessor.http_response\u001b[1;34m(self, request, response)\u001b[0m\n\u001b[0;32m    631\u001b[0m \u001b[39m# According to RFC 2616, \"2xx\" code indicates that the client's\u001b[39;00m\n\u001b[0;32m    632\u001b[0m \u001b[39m# request was successfully received, understood, and accepted.\u001b[39;00m\n\u001b[0;32m    633\u001b[0m \u001b[39mif\u001b[39;00m \u001b[39mnot\u001b[39;00m (\u001b[39m200\u001b[39m \u001b[39m<\u001b[39m\u001b[39m=\u001b[39m code \u001b[39m<\u001b[39m \u001b[39m300\u001b[39m):\n\u001b[1;32m--> 634\u001b[0m     response \u001b[39m=\u001b[39m \u001b[39mself\u001b[39;49m\u001b[39m.\u001b[39;49mparent\u001b[39m.\u001b[39;49merror(\n\u001b[0;32m    635\u001b[0m         \u001b[39m'\u001b[39;49m\u001b[39mhttp\u001b[39;49m\u001b[39m'\u001b[39;49m, request, response, code, msg, hdrs)\n\u001b[0;32m    637\u001b[0m \u001b[39mreturn\u001b[39;00m response\n",
      "File \u001b[1;32mc:\\Users\\ubfil\\anaconda3\\envs\\foradogarrafao\\lib\\urllib\\request.py:563\u001b[0m, in \u001b[0;36mOpenerDirector.error\u001b[1;34m(self, proto, *args)\u001b[0m\n\u001b[0;32m    561\u001b[0m \u001b[39mif\u001b[39;00m http_err:\n\u001b[0;32m    562\u001b[0m     args \u001b[39m=\u001b[39m (\u001b[39mdict\u001b[39m, \u001b[39m'\u001b[39m\u001b[39mdefault\u001b[39m\u001b[39m'\u001b[39m, \u001b[39m'\u001b[39m\u001b[39mhttp_error_default\u001b[39m\u001b[39m'\u001b[39m) \u001b[39m+\u001b[39m orig_args\n\u001b[1;32m--> 563\u001b[0m     \u001b[39mreturn\u001b[39;00m \u001b[39mself\u001b[39;49m\u001b[39m.\u001b[39;49m_call_chain(\u001b[39m*\u001b[39;49margs)\n",
      "File \u001b[1;32mc:\\Users\\ubfil\\anaconda3\\envs\\foradogarrafao\\lib\\urllib\\request.py:496\u001b[0m, in \u001b[0;36mOpenerDirector._call_chain\u001b[1;34m(self, chain, kind, meth_name, *args)\u001b[0m\n\u001b[0;32m    494\u001b[0m \u001b[39mfor\u001b[39;00m handler \u001b[39min\u001b[39;00m handlers:\n\u001b[0;32m    495\u001b[0m     func \u001b[39m=\u001b[39m \u001b[39mgetattr\u001b[39m(handler, meth_name)\n\u001b[1;32m--> 496\u001b[0m     result \u001b[39m=\u001b[39m func(\u001b[39m*\u001b[39;49margs)\n\u001b[0;32m    497\u001b[0m     \u001b[39mif\u001b[39;00m result \u001b[39mis\u001b[39;00m \u001b[39mnot\u001b[39;00m \u001b[39mNone\u001b[39;00m:\n\u001b[0;32m    498\u001b[0m         \u001b[39mreturn\u001b[39;00m result\n",
      "File \u001b[1;32mc:\\Users\\ubfil\\anaconda3\\envs\\foradogarrafao\\lib\\urllib\\request.py:643\u001b[0m, in \u001b[0;36mHTTPDefaultErrorHandler.http_error_default\u001b[1;34m(self, req, fp, code, msg, hdrs)\u001b[0m\n\u001b[0;32m    642\u001b[0m \u001b[39mdef\u001b[39;00m \u001b[39mhttp_error_default\u001b[39m(\u001b[39mself\u001b[39m, req, fp, code, msg, hdrs):\n\u001b[1;32m--> 643\u001b[0m     \u001b[39mraise\u001b[39;00m HTTPError(req\u001b[39m.\u001b[39mfull_url, code, msg, hdrs, fp)\n",
      "\u001b[1;31mHTTPError\u001b[0m: HTTP Error 429: Too Many Requests"
     ]
    }
   ],
   "source": [
    "def breference_url(name: str) -> str:\n",
    "    names = name.replace('-', ' ').replace(\"'\", '').lower().split(' ')\n",
    "    url = 'https://www.basketball-reference.com/players/' + names[1][0] + '/' + names[1][0:5] + names[0][0:2] + '01.html'\n",
    "    return url\n",
    "\n",
    "def scrap_seasons(name: str) -> pd.DataFrame:\n",
    "    time.sleep(5)\n",
    "    url = breference_url(name)\n",
    "    html = urlopen(url)\n",
    "    bs = BeautifulSoup(html, 'lxml')\n",
    "    \n",
    "    table = bs.find_all('table')[0]\n",
    "    df = pd.read_html(str(table))[0]\n",
    "    df = df[~df.Age.isna()]\n",
    "    df['Name'] = name\n",
    "    return df\n",
    "\n",
    "def scrap_seasons_all(names: list) -> pd.DataFrame:\n",
    "    df = pd.DataFrame()\n",
    "    for name in names:\n",
    "        print(name)\n",
    "        df = pd.concat([df, scrap_seasons(name)])\n",
    "    df.to_csv('../data/breference/raw/all_time_leaders1.csv', index=False)\n",
    "    return df\n",
    "\n",
    "df = scrap_seasons_all(names[0:10])\n",
    "df"
   ]
  }
 ],
 "metadata": {
  "kernelspec": {
   "display_name": "foradogarrafao",
   "language": "python",
   "name": "python3"
  },
  "language_info": {
   "codemirror_mode": {
    "name": "ipython",
    "version": 3
   },
   "file_extension": ".py",
   "mimetype": "text/x-python",
   "name": "python",
   "nbconvert_exporter": "python",
   "pygments_lexer": "ipython3",
   "version": "3.10.4"
  },
  "orig_nbformat": 4,
  "vscode": {
   "interpreter": {
    "hash": "e3d1baa428b27a5a8d5baf73f256fb66f48b81f44f9a5b83be0fb7cb7a3af7b3"
   }
  }
 },
 "nbformat": 4,
 "nbformat_minor": 2
}
