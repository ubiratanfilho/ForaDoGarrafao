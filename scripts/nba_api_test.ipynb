{
 "cells": [
  {
   "cell_type": "markdown",
   "metadata": {},
   "source": [
    "## Getting Team and Player IDs"
   ]
  },
  {
   "cell_type": "code",
   "execution_count": 1,
   "metadata": {},
   "outputs": [
    {
     "name": "stdout",
     "output_type": "stream",
     "text": [
      "Number of teams fetched: 30\n"
     ]
    },
    {
     "data": {
      "text/plain": [
       "[{'id': 1610612737,\n",
       "  'full_name': 'Atlanta Hawks',\n",
       "  'abbreviation': 'ATL',\n",
       "  'nickname': 'Hawks',\n",
       "  'city': 'Atlanta',\n",
       "  'state': 'Atlanta',\n",
       "  'year_founded': 1949},\n",
       " {'id': 1610612738,\n",
       "  'full_name': 'Boston Celtics',\n",
       "  'abbreviation': 'BOS',\n",
       "  'nickname': 'Celtics',\n",
       "  'city': 'Boston',\n",
       "  'state': 'Massachusetts',\n",
       "  'year_founded': 1946},\n",
       " {'id': 1610612739,\n",
       "  'full_name': 'Cleveland Cavaliers',\n",
       "  'abbreviation': 'CLE',\n",
       "  'nickname': 'Cavaliers',\n",
       "  'city': 'Cleveland',\n",
       "  'state': 'Ohio',\n",
       "  'year_founded': 1970}]"
      ]
     },
     "execution_count": 1,
     "metadata": {},
     "output_type": "execute_result"
    }
   ],
   "source": [
    "from nba_api.stats.static import teams\n",
    "# get_teams returns a list of 30 dictionaries, each an NBA team.\n",
    "nba_teams = teams.get_teams()\n",
    "print('Number of teams fetched: {}'.format(len(nba_teams)))\n",
    "nba_teams[:3]"
   ]
  },
  {
   "cell_type": "code",
   "execution_count": 2,
   "metadata": {},
   "outputs": [
    {
     "name": "stdout",
     "output_type": "stream",
     "text": [
      "Number of players fetched: 4723\n"
     ]
    },
    {
     "data": {
      "text/plain": [
       "[{'id': 76001,\n",
       "  'full_name': 'Alaa Abdelnaby',\n",
       "  'first_name': 'Alaa',\n",
       "  'last_name': 'Abdelnaby',\n",
       "  'is_active': False},\n",
       " {'id': 76002,\n",
       "  'full_name': 'Zaid Abdul-Aziz',\n",
       "  'first_name': 'Zaid',\n",
       "  'last_name': 'Abdul-Aziz',\n",
       "  'is_active': False},\n",
       " {'id': 76003,\n",
       "  'full_name': 'Kareem Abdul-Jabbar',\n",
       "  'first_name': 'Kareem',\n",
       "  'last_name': 'Abdul-Jabbar',\n",
       "  'is_active': False},\n",
       " {'id': 51,\n",
       "  'full_name': 'Mahmoud Abdul-Rauf',\n",
       "  'first_name': 'Mahmoud',\n",
       "  'last_name': 'Abdul-Rauf',\n",
       "  'is_active': False},\n",
       " {'id': 1505,\n",
       "  'full_name': 'Tariq Abdul-Wahad',\n",
       "  'first_name': 'Tariq',\n",
       "  'last_name': 'Abdul-Wahad',\n",
       "  'is_active': False}]"
      ]
     },
     "execution_count": 2,
     "metadata": {},
     "output_type": "execute_result"
    }
   ],
   "source": [
    "from nba_api.stats.static import players\n",
    "# get_players returns a list of dictionaries, each representing a player.\n",
    "nba_players = players.get_players()\n",
    "print('Number of players fetched: {}'.format(len(nba_players)))\n",
    "nba_players[:5]"
   ]
  },
  {
   "cell_type": "code",
   "execution_count": 3,
   "metadata": {},
   "outputs": [
    {
     "data": {
      "text/plain": [
       "{'id': 893,\n",
       " 'full_name': 'Michael Jordan',\n",
       " 'first_name': 'Michael',\n",
       " 'last_name': 'Jordan',\n",
       " 'is_active': False}"
      ]
     },
     "execution_count": 3,
     "metadata": {},
     "output_type": "execute_result"
    }
   ],
   "source": [
    "[player for player in nba_players\n",
    "                   if player['full_name'] == 'Michael Jordan'][0]"
   ]
  },
  {
   "cell_type": "markdown",
   "metadata": {},
   "source": [
    "## Getting career stats of a player"
   ]
  },
  {
   "cell_type": "code",
   "execution_count": 4,
   "metadata": {},
   "outputs": [
    {
     "data": {
      "text/html": [
       "<div>\n",
       "<style scoped>\n",
       "    .dataframe tbody tr th:only-of-type {\n",
       "        vertical-align: middle;\n",
       "    }\n",
       "\n",
       "    .dataframe tbody tr th {\n",
       "        vertical-align: top;\n",
       "    }\n",
       "\n",
       "    .dataframe thead th {\n",
       "        text-align: right;\n",
       "    }\n",
       "</style>\n",
       "<table border=\"1\" class=\"dataframe\">\n",
       "  <thead>\n",
       "    <tr style=\"text-align: right;\">\n",
       "      <th></th>\n",
       "      <th>PLAYER_ID</th>\n",
       "      <th>SEASON_ID</th>\n",
       "      <th>LEAGUE_ID</th>\n",
       "      <th>TEAM_ID</th>\n",
       "      <th>TEAM_ABBREVIATION</th>\n",
       "      <th>PLAYER_AGE</th>\n",
       "      <th>GP</th>\n",
       "      <th>GS</th>\n",
       "      <th>MIN</th>\n",
       "      <th>FGM</th>\n",
       "      <th>...</th>\n",
       "      <th>FT_PCT</th>\n",
       "      <th>OREB</th>\n",
       "      <th>DREB</th>\n",
       "      <th>REB</th>\n",
       "      <th>AST</th>\n",
       "      <th>STL</th>\n",
       "      <th>BLK</th>\n",
       "      <th>TOV</th>\n",
       "      <th>PF</th>\n",
       "      <th>PTS</th>\n",
       "    </tr>\n",
       "  </thead>\n",
       "  <tbody>\n",
       "    <tr>\n",
       "      <th>0</th>\n",
       "      <td>893</td>\n",
       "      <td>1984-85</td>\n",
       "      <td>00</td>\n",
       "      <td>1610612741</td>\n",
       "      <td>CHI</td>\n",
       "      <td>22.0</td>\n",
       "      <td>82</td>\n",
       "      <td>82</td>\n",
       "      <td>3144.0</td>\n",
       "      <td>837</td>\n",
       "      <td>...</td>\n",
       "      <td>0.845</td>\n",
       "      <td>167</td>\n",
       "      <td>367</td>\n",
       "      <td>534</td>\n",
       "      <td>481</td>\n",
       "      <td>196</td>\n",
       "      <td>69</td>\n",
       "      <td>291</td>\n",
       "      <td>285</td>\n",
       "      <td>2313</td>\n",
       "    </tr>\n",
       "    <tr>\n",
       "      <th>1</th>\n",
       "      <td>893</td>\n",
       "      <td>1985-86</td>\n",
       "      <td>00</td>\n",
       "      <td>1610612741</td>\n",
       "      <td>CHI</td>\n",
       "      <td>23.0</td>\n",
       "      <td>18</td>\n",
       "      <td>7</td>\n",
       "      <td>451.0</td>\n",
       "      <td>150</td>\n",
       "      <td>...</td>\n",
       "      <td>0.840</td>\n",
       "      <td>23</td>\n",
       "      <td>41</td>\n",
       "      <td>64</td>\n",
       "      <td>53</td>\n",
       "      <td>37</td>\n",
       "      <td>21</td>\n",
       "      <td>45</td>\n",
       "      <td>46</td>\n",
       "      <td>408</td>\n",
       "    </tr>\n",
       "    <tr>\n",
       "      <th>2</th>\n",
       "      <td>893</td>\n",
       "      <td>1986-87</td>\n",
       "      <td>00</td>\n",
       "      <td>1610612741</td>\n",
       "      <td>CHI</td>\n",
       "      <td>24.0</td>\n",
       "      <td>82</td>\n",
       "      <td>82</td>\n",
       "      <td>3281.0</td>\n",
       "      <td>1098</td>\n",
       "      <td>...</td>\n",
       "      <td>0.857</td>\n",
       "      <td>166</td>\n",
       "      <td>264</td>\n",
       "      <td>430</td>\n",
       "      <td>377</td>\n",
       "      <td>236</td>\n",
       "      <td>125</td>\n",
       "      <td>272</td>\n",
       "      <td>237</td>\n",
       "      <td>3041</td>\n",
       "    </tr>\n",
       "    <tr>\n",
       "      <th>3</th>\n",
       "      <td>893</td>\n",
       "      <td>1987-88</td>\n",
       "      <td>00</td>\n",
       "      <td>1610612741</td>\n",
       "      <td>CHI</td>\n",
       "      <td>25.0</td>\n",
       "      <td>82</td>\n",
       "      <td>82</td>\n",
       "      <td>3311.0</td>\n",
       "      <td>1069</td>\n",
       "      <td>...</td>\n",
       "      <td>0.841</td>\n",
       "      <td>139</td>\n",
       "      <td>310</td>\n",
       "      <td>449</td>\n",
       "      <td>485</td>\n",
       "      <td>259</td>\n",
       "      <td>131</td>\n",
       "      <td>252</td>\n",
       "      <td>270</td>\n",
       "      <td>2868</td>\n",
       "    </tr>\n",
       "    <tr>\n",
       "      <th>4</th>\n",
       "      <td>893</td>\n",
       "      <td>1988-89</td>\n",
       "      <td>00</td>\n",
       "      <td>1610612741</td>\n",
       "      <td>CHI</td>\n",
       "      <td>26.0</td>\n",
       "      <td>81</td>\n",
       "      <td>81</td>\n",
       "      <td>3255.0</td>\n",
       "      <td>966</td>\n",
       "      <td>...</td>\n",
       "      <td>0.850</td>\n",
       "      <td>149</td>\n",
       "      <td>503</td>\n",
       "      <td>652</td>\n",
       "      <td>650</td>\n",
       "      <td>234</td>\n",
       "      <td>65</td>\n",
       "      <td>290</td>\n",
       "      <td>247</td>\n",
       "      <td>2633</td>\n",
       "    </tr>\n",
       "  </tbody>\n",
       "</table>\n",
       "<p>5 rows × 27 columns</p>\n",
       "</div>"
      ],
      "text/plain": [
       "   PLAYER_ID SEASON_ID LEAGUE_ID     TEAM_ID TEAM_ABBREVIATION  PLAYER_AGE  \\\n",
       "0        893   1984-85        00  1610612741               CHI        22.0   \n",
       "1        893   1985-86        00  1610612741               CHI        23.0   \n",
       "2        893   1986-87        00  1610612741               CHI        24.0   \n",
       "3        893   1987-88        00  1610612741               CHI        25.0   \n",
       "4        893   1988-89        00  1610612741               CHI        26.0   \n",
       "\n",
       "   GP  GS     MIN   FGM  ...  FT_PCT  OREB  DREB  REB  AST  STL  BLK  TOV  \\\n",
       "0  82  82  3144.0   837  ...   0.845   167   367  534  481  196   69  291   \n",
       "1  18   7   451.0   150  ...   0.840    23    41   64   53   37   21   45   \n",
       "2  82  82  3281.0  1098  ...   0.857   166   264  430  377  236  125  272   \n",
       "3  82  82  3311.0  1069  ...   0.841   139   310  449  485  259  131  252   \n",
       "4  81  81  3255.0   966  ...   0.850   149   503  652  650  234   65  290   \n",
       "\n",
       "    PF   PTS  \n",
       "0  285  2313  \n",
       "1   46   408  \n",
       "2  237  3041  \n",
       "3  270  2868  \n",
       "4  247  2633  \n",
       "\n",
       "[5 rows x 27 columns]"
      ]
     },
     "execution_count": 4,
     "metadata": {},
     "output_type": "execute_result"
    }
   ],
   "source": [
    "from nba_api.stats.endpoints import playercareerstats\n",
    "\n",
    "career = playercareerstats.PlayerCareerStats(player_id='893')\n",
    "jordan = career.get_data_frames()[0]\n",
    "jordan.head()"
   ]
  },
  {
   "cell_type": "code",
   "execution_count": 5,
   "metadata": {},
   "outputs": [
    {
     "name": "stdout",
     "output_type": "stream",
     "text": [
      "<class 'pandas.core.frame.DataFrame'>\n",
      "RangeIndex: 15 entries, 0 to 14\n",
      "Data columns (total 27 columns):\n",
      " #   Column             Non-Null Count  Dtype  \n",
      "---  ------             --------------  -----  \n",
      " 0   PLAYER_ID          15 non-null     int64  \n",
      " 1   SEASON_ID          15 non-null     object \n",
      " 2   LEAGUE_ID          15 non-null     object \n",
      " 3   TEAM_ID            15 non-null     int64  \n",
      " 4   TEAM_ABBREVIATION  15 non-null     object \n",
      " 5   PLAYER_AGE         15 non-null     float64\n",
      " 6   GP                 15 non-null     int64  \n",
      " 7   GS                 15 non-null     int64  \n",
      " 8   MIN                15 non-null     float64\n",
      " 9   FGM                15 non-null     int64  \n",
      " 10  FGA                15 non-null     int64  \n",
      " 11  FG_PCT             15 non-null     float64\n",
      " 12  FG3M               15 non-null     int64  \n",
      " 13  FG3A               15 non-null     int64  \n",
      " 14  FG3_PCT            15 non-null     float64\n",
      " 15  FTM                15 non-null     int64  \n",
      " 16  FTA                15 non-null     int64  \n",
      " 17  FT_PCT             15 non-null     float64\n",
      " 18  OREB               15 non-null     int64  \n",
      " 19  DREB               15 non-null     int64  \n",
      " 20  REB                15 non-null     int64  \n",
      " 21  AST                15 non-null     int64  \n",
      " 22  STL                15 non-null     int64  \n",
      " 23  BLK                15 non-null     int64  \n",
      " 24  TOV                15 non-null     int64  \n",
      " 25  PF                 15 non-null     int64  \n",
      " 26  PTS                15 non-null     int64  \n",
      "dtypes: float64(5), int64(19), object(3)\n",
      "memory usage: 3.3+ KB\n"
     ]
    }
   ],
   "source": [
    "jordan.info()"
   ]
  }
 ],
 "metadata": {
  "kernelspec": {
   "display_name": "Python 3.10.4 ('foradogarrafao')",
   "language": "python",
   "name": "python3"
  },
  "language_info": {
   "codemirror_mode": {
    "name": "ipython",
    "version": 3
   },
   "file_extension": ".py",
   "mimetype": "text/x-python",
   "name": "python",
   "nbconvert_exporter": "python",
   "pygments_lexer": "ipython3",
   "version": "3.10.4"
  },
  "orig_nbformat": 4,
  "vscode": {
   "interpreter": {
    "hash": "e3d1baa428b27a5a8d5baf73f256fb66f48b81f44f9a5b83be0fb7cb7a3af7b3"
   }
  }
 },
 "nbformat": 4,
 "nbformat_minor": 2
}
